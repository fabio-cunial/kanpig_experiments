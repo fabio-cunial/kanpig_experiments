{
 "cells": [
  {
   "cell_type": "markdown",
   "id": "dfdd883e-6067-44bf-95db-84e82fdaf7ed",
   "metadata": {},
   "source": [
    "# Genotype Concordance"
   ]
  },
  {
   "cell_type": "code",
   "execution_count": 1,
   "id": "cf01463d-9ef9-4c24-9062-626d7f535d26",
   "metadata": {},
   "outputs": [],
   "source": [
    "import pandas as pd\n",
    "import seaborn as sb\n",
    "import matplotlib.pyplot as plt\n",
    "import numpy as np\n",
    "import itertools\n",
    "from collections import OrderedDict"
   ]
  },
  {
   "cell_type": "code",
   "execution_count": 4,
   "id": "8d826369-984d-4779-b81b-a4fca73e482f",
   "metadata": {},
   "outputs": [],
   "source": [
    "def add_summary(data, with_as=False):\n",
    "    \"\"\"\n",
    "    Add summary stats to a dataframe\n",
    "    \"\"\"\n",
    "    e = \"as_\" if with_as else \"\"\n",
    "    data['Total Calls'] = data[['Concordant', 'Discordant', 'Missing', 'Filtered']].sum(axis=1)\n",
    "    data['Total Genotyped'] = data['Total Calls'] - data['Missing']\n",
    "    data['Missing Rate'] = data['Missing'] / data['Total Genotyped']\n",
    "    data['GT Concordance'] = data['Concordant'] / data['Total Genotyped']\n",
    "    data[f'{e}compP'] = data[f'{e}TP'] + data[f'{e}FP']\n",
    "    data[f'{e}baseP'] = data[f'{e}TP'] + data[f'{e}FN']\n",
    "    data[f'{e}compN'] = data[f'{e}TN'] + data[f'{e}FN']\n",
    "    data[f'{e}baseN'] = data[f'{e}TN'] + data[f'{e}FP']\n",
    "    data[f'{e}ppv'] = data[f'{e}TP'] / data[f'{e}compP']\n",
    "    data[f'{e}tpr'] = data[f'{e}TP'] / data[f'{e}baseP']\n",
    "    data[f'{e}tnr'] = data[f'{e}TN'] / data[f'{e}baseN']\n",
    "    data[f'{e}npv'] = data[f'{e}TN'] / data[f'{e}compN']\n",
    "    data[f'{e}acc'] = (data[f'{e}TP'] + data[f'{e}TN']) / (data[f'{e}baseP'] + data[f'{e}baseN'])\n",
    "    data[f'{e}ba'] = (data[f'{e}tpr'] + data[f'{e}tnr']) / 2\n",
    "    data[f'{e}f1'] = 2 * ((data[f'{e}ppv'] * data[f'{e}tpr']) / (data[f'{e}ppv'] + data[f'{e}tpr']))\n",
    "    \n",
    "def plot_gtconcordance_barplot(subset, ax, title=\"Genotype Concordance\"):\n",
    "    p = sb.barplot(data=subset, x=\"program\", y=\"GT Concordance\", hue=\"coverage\", \n",
    "                   hue_order=['32x', '16x', '8x'], ax=ax, order=['kanpig', 'svjedi', 'sniffles', 'cutesv'], \n",
    "                   zorder=2)\n",
    "    p.set(title=title, ylabel=\"Overall GT Concordance\")\n",
    "\n",
    "    categories = subset['program'].unique()\n",
    "    print(categories)\n",
    "    num_categories = len(categories)\n",
    "\n",
    "    # Alternate shading for every other category\n",
    "    for i in range(0, num_categories, 2):\n",
    "        p.axvspan(i - 0.5, i + 0.5, color='gray', alpha=0.1)\n",
    "\n",
    "    # Adjust x-axis limits if needed\n",
    "    p.set_xlim(-0.5, num_categories - 0.5)\n",
    "    p.set_ylim(0.5, 0.9)\n",
    "    ax.grid(axis='y', zorder=1)\n",
    "    legend = p.legend(frameon=True, title='Coverage', loc='upper right')\n",
    "    legend.get_frame().set_edgecolor('white')\n",
    "    \n",
    "def plot_typestrat(subset_a, subset_b, ax1, ax2):\n",
    "    \"\"\"\n",
    "    A is TRs, B is Non-TRs\n",
    "    \"\"\"\n",
    "    p = sb.barplot(data=subset_a, x=\"program\", y=\"GT Concordance\", hue=\"svtype\", \n",
    "                   hue_order=['DEL', 'INS'], order=['kanpig', 'svjedi', 'sniffles', 'cutesv'],\n",
    "                   zorder=2, ax=ax1)\n",
    "\n",
    "\n",
    "    categories = subset_a['program'].unique()\n",
    "    num_categories = len(categories)\n",
    "\n",
    "    # Alternate shading for every other category\n",
    "    for i in range(0, num_categories, 2):\n",
    "        p.axvspan(i - 0.5, i + 0.5, color='gray', alpha=0.1)\n",
    "\n",
    "    # Adjust x-axis limits if needed\n",
    "    p.set_xlim(-0.5, num_categories - 0.5)\n",
    "    p.set_ylim(0.5, 0.9)\n",
    "    ax1.grid(axis='y', zorder=1)\n",
    "    legend = p.legend(frameon=True, title='SV Type', ncol=1, loc='upper right')\n",
    "    legend.get_frame().set_edgecolor('white')\n",
    "    ax1.set(ylabel=\"SVTYPE GT Concordance\")\n",
    "\n",
    "    ## Second half\n",
    "    p = sb.barplot(data=subset_b, x=\"program\", y=\"GT Concordance\", hue=\"TR\", \n",
    "                   hue_order=['inside', 'outside'], order=['kanpig', 'svjedi', 'sniffles', 'cutesv'],\n",
    "                   zorder=2, ax=ax2)\n",
    "\n",
    "\n",
    "    p.set(xlabel=\"Program\", ylabel=\"TR GT Concordance\")\n",
    "\n",
    "    categories = subset_b['program'].unique()\n",
    "    num_categories = len(categories)\n",
    "\n",
    "    # Alternate shading for every other category\n",
    "    for i in range(0, num_categories, 2):\n",
    "        p.axvspan(i - 0.5, i + 0.5, color='gray', alpha=0.1)\n",
    "\n",
    "    # Adjust x-axis limits if needed\n",
    "    p.set_xlim(-0.5, num_categories - 0.5)\n",
    "    p.set_ylim(0.5, 0.9)\n",
    "    ax2.grid(axis='y', zorder=1)\n",
    "    #legend = p.legend(frameon=True, title='SV Type', loc='upper right')\n",
    "    #legend.get_frame().set_edgecolor('white')"
   ]
  },
  {
   "cell_type": "code",
   "execution_count": 5,
   "id": "6539586c-147f-477e-99b5-70d2d2e4c608",
   "metadata": {},
   "outputs": [],
   "source": [
    "gt_data = pd.read_csv(\"../results/tables/all.gt_dist.table.txt\", sep='\\t')\n",
    "inter_data = pd.read_csv(\"../results/tables/all.intersect.table.txt\", sep='\\t')\n",
    "neigh_data = pd.read_csv(\"../results/tables/all.neighbor.table.txt\", sep='\\t')\n",
    "svtype_data = pd.read_csv(\"../results/tables/all.svtype.table.txt\", sep='\\t')\n",
    "\n",
    "tr_gt_data = pd.read_csv(\"../results/tables/tr.gt_dist.table.txt\", sep='\\t')\n",
    "tr_inter_data = pd.read_csv(\"../results/tables/tr.intersect.table.txt\", sep='\\t')\n",
    "tr_neigh_data = pd.read_csv(\"../results/tables/tr.neighbor.table.txt\", sep='\\t')\n",
    "tr_svtype_data = pd.read_csv(\"../results/tables/tr.svtype.table.txt\", sep='\\t')\n",
    "\n",
    "ntr_gt_data = pd.read_csv(\"../results/tables/non_tr.gt_dist.table.txt\", sep='\\t')\n",
    "ntr_inter_data = pd.read_csv(\"../results/tables/non_tr.intersect.table.txt\", sep='\\t')\n",
    "ntr_neigh_data = pd.read_csv(\"../results/tables/non_tr.neighbor.table.txt\", sep='\\t')\n",
    "ntr_svtype_data = pd.read_csv(\"../results/tables/non_tr.svtype.table.txt\", sep='\\t')"
   ]
  },
  {
   "cell_type": "code",
   "execution_count": 6,
   "id": "7fa2301f-11bf-4108-8317-64c3e0f9bba6",
   "metadata": {},
   "outputs": [],
   "source": [
    "add_summary(svtype_data)\n",
    "add_summary(tr_svtype_data)\n",
    "add_summary(ntr_svtype_data)"
   ]
  },
  {
   "cell_type": "markdown",
   "id": "da59c500-04d0-4e0c-9945-5424b2f0f647",
   "metadata": {},
   "source": [
    "The average genotyping concordance of a single-sample’s predicted SV genotypes to the truth SV genotypes for kanpig was 0.795 compared to 0.720 for svjedi, 0.650 for sniffles, and 0.616 for cuteSV."
   ]
  },
  {
   "cell_type": "code",
   "execution_count": 29,
   "id": "d2ce1654-13e0-4923-b315-e161b701b008",
   "metadata": {},
   "outputs": [
    {
     "data": {
      "text/plain": [
       "program\n",
       "cutesv      0.616\n",
       "kanpig      0.795\n",
       "sniffles    0.049\n",
       "svjedi      0.719\n",
       "Name: mean, dtype: float64"
      ]
     },
     "execution_count": 29,
     "metadata": {},
     "output_type": "execute_result"
    }
   ],
   "source": [
    "view = svtype_data[(svtype_data['svtype'] == 'TOT')\n",
    "                   & (svtype_data['experiment'] == 'ts')\n",
    "                   & (svtype_data['technology'] == 'pac')\n",
    "                   & (svtype_data['coverage'] == '32x')]\n",
    "view.groupby('program')['GT Concordance'].describe()['mean'].round(3)"
   ]
  },
  {
   "cell_type": "markdown",
   "id": "24fd208a-9674-4929-8cce-c6e7af3f0aab",
   "metadata": {},
   "source": [
    "However, kanpig’s performance at 8x (N) was higher than other tools’ performance at 32x..\n"
   ]
  },
  {
   "cell_type": "code",
   "execution_count": 14,
   "id": "acadf66f-fd57-456c-b850-d9ef29cf9e3f",
   "metadata": {},
   "outputs": [],
   "source": [
    "x = svtype_data[(svtype_data['experiment'] == 'dm')\n",
    "           & (svtype_data['svtype'] == 'TOT')]"
   ]
  },
  {
   "cell_type": "code",
   "execution_count": 15,
   "id": "64b43141-95e3-4d0c-9a17-4b6a83485053",
   "metadata": {},
   "outputs": [
    {
     "data": {
      "text/plain": [
       "<Axes: xlabel='program', ylabel='GT Concordance'>"
      ]
     },
     "execution_count": 15,
     "metadata": {},
     "output_type": "execute_result"
    },
    {
     "data": {
      "image/png": "[encoded data removed]",
      "text/plain": [
       "<Figure size 640x480 with 1 Axes>"
      ]
     },
     "metadata": {},
     "output_type": "display_data"
    }
   ],
   "source": [
    "sb.boxplot(data=x, x=\"program\", hue='coverage', y=\"GT Concordance\")"
   ]
  },
  {
   "cell_type": "code",
   "execution_count": 16,
   "id": "bb5577c6-9569-4f7e-96d8-0327a84d7975",
   "metadata": {},
   "outputs": [
    {
     "name": "stdout",
     "output_type": "stream",
     "text": [
      "['kanpig' 'svjedi' 'sniffles' 'cutesv']\n"
     ]
    },
    {
     "data": {
      "image/png": "[encoded data removed]",
      "text/plain": [
       "<Figure size 800x1400 with 3 Axes>"
      ]
     },
     "metadata": {},
     "output_type": "display_data"
    }
   ],
   "source": [
    "view = svtype_data[(svtype_data['svtype'] == 'TOT')\n",
    "                    & (svtype_data['experiment'] == 'ts')\n",
    "                    & (svtype_data['technology'] == 'pac')]\n",
    "\n",
    "fig, (ax1, ax2, ax3) = plt.subplots(3, 1, sharex=True, figsize=(8, 14))\n",
    "\n",
    "plot_gtconcordance_barplot(view, ax1, \"Genotype Concordance\")\n",
    "\n",
    "a = svtype_data[(tr_svtype_data['svtype'] != 'TOT')\n",
    "                   & (svtype_data['experiment'] == 'ts')\n",
    "                   & (svtype_data['technology'] == 'pac')\n",
    "                   & (svtype_data['coverage'] == '32x')]\n",
    "\n",
    "b = tr_svtype_data[(tr_svtype_data['svtype'] == 'TOT')\n",
    "                   & (tr_svtype_data['experiment'] == 'ts')\n",
    "                   & (tr_svtype_data['technology'] == 'pac')\n",
    "                   & (tr_svtype_data['coverage'] == '32x')].copy()\n",
    "b['TR'] = 'inside'\n",
    "c = ntr_svtype_data[(ntr_svtype_data['svtype'] == 'TOT')\n",
    "                   & (ntr_svtype_data['experiment'] == 'ts')\n",
    "                   & (ntr_svtype_data['technology'] == 'pac')\n",
    "                   & (ntr_svtype_data['coverage'] == '32x')].copy()\n",
    "c['TR'] = 'outside'\n",
    "d = pd.concat([b, c])\n",
    "\n",
    "plot_typestrat(a, d, ax2, ax3)\n",
    "fig.tight_layout()\n",
    "plt.show()\n"
   ]
  },
  {
   "cell_type": "code",
   "execution_count": null,
   "id": "24fe7402-8277-4839-acf3-26634fd4a389",
   "metadata": {},
   "outputs": [],
   "source": [
    "view = svtype_data[(svtype_data['svtype'] == 'TOT')\n",
    "                   & (svtype_data['experiment'] == 'ts')\n",
    "                   & (svtype_data['technology'] == 'pac')\n",
    "                   & (svtype_data['coverage'] == '8x')]\n",
    "view.groupby('program')['GT Concordance'].describe()['mean'].round(3)"
   ]
  },
  {
   "cell_type": "markdown",
   "id": "49150c6f-2812-487f-bdb2-aea1d76f685b",
   "metadata": {},
   "source": [
    "On GRCh38, the samples’ assemblies called an average of 10,553 deletions compared to 16,912 insertions."
   ]
  },
  {
   "cell_type": "code",
   "execution_count": null,
   "id": "e2982beb-c745-4c48-bf8a-b120f11f4b98",
   "metadata": {},
   "outputs": [],
   "source": [
    "view = svtype_data[(svtype_data['svtype'] != 'TOT')\n",
    "                   & (svtype_data['experiment'] == 'ts')\n",
    "                   & (svtype_data['technology'] == 'pac')\n",
    "                   & (svtype_data['coverage'] == '32x')]\n",
    "view.groupby(['sample', 'svtype'])['Total Calls'].describe().reset_index().groupby(['svtype'])['mean'].mean()\n"
   ]
  },
  {
   "cell_type": "markdown",
   "id": "66d3d126-923b-4ee1-9c72-c62230fe82d9",
   "metadata": {},
   "source": [
    "Stratifying the performance of genotypers by SV type (deletions and insertions) revealed that all tools’ performance on deletions is higher than their performance on insertions (Figure2B). The best performing stratification was SVJedi on deletions at 0.816 followed by kanpig’s deletions and insertions at 0.796 and 0.795 respectively.\n",
    "\n",
    "\n",
    "Overall, kanpig's performance with respect to SV type had the lowest imbalance (deletion concordance minus insertion concordnace) at 0.001 percentage points (p.p) compared to 0.155 p.p. for svjedi, 0.166 p.p. for sniffles, and 0.148 p.p. for cutesv."
   ]
  },
  {
   "cell_type": "code",
   "execution_count": null,
   "id": "f3d63692-ad5b-4cd9-9b4a-62cc79963c74",
   "metadata": {},
   "outputs": [],
   "source": [
    "view = svtype_data[(svtype_data['svtype'] != 'TOT')\n",
    "                   & (svtype_data['experiment'] == 'ts')\n",
    "                   & (svtype_data['technology'] == 'pac')\n",
    "                   & (svtype_data['coverage'] == '32x')]\n",
    "view2 = view.groupby(['program', 'svtype'])['GT Concordance'].describe()['mean'].round(3).unstack()\n",
    "view2['diff'] = view2['DEL'] - view2['INS'] \n",
    "view2"
   ]
  },
  {
   "cell_type": "markdown",
   "id": "9a561e92-687c-4e9d-9fe8-2714d9cdc96b",
   "metadata": {},
   "source": [
    "Another important stratification for SVs is their overlap with tandem repeats as ~70% of SVs are expected to occur within tandem repeats (cite giabtr). We found that kanpig’s performance on SVs within TRs was 0.784 and its performance outside of TRs was 0.888. Other tools showed a bias towards higher accuracy by 13.5 p.p. in SVs outside of TRs (Figure 2b) The full table of genotypers' performance by coverage, svtype, and tr-status is available in supplementary table X)."
   ]
  },
  {
   "cell_type": "code",
   "execution_count": null,
   "id": "6f4d8a05-8725-45dc-98e3-991e38f11b93",
   "metadata": {},
   "outputs": [],
   "source": [
    "a = tr_svtype_data[(tr_svtype_data['svtype'] == 'TOT')\n",
    "                   & (tr_svtype_data['experiment'] == 'ts')\n",
    "                   & (tr_svtype_data['technology'] == 'pac')\n",
    "                   & (tr_svtype_data['coverage'] == '32x')]\n",
    "a = a.groupby(['program'])['GT Concordance'].mean()\n",
    "\n",
    "b = ntr_svtype_data[(ntr_svtype_data['svtype'] == 'TOT')\n",
    "                   & (ntr_svtype_data['experiment'] == 'ts')\n",
    "                   & (ntr_svtype_data['technology'] == 'pac')\n",
    "                   & (ntr_svtype_data['coverage'] == '32x')]\n",
    "b = b.groupby(['program'])['GT Concordance'].mean()\n",
    "\n",
    "view = pd.concat([a, b], axis=1)\n",
    "view.columns = ['TR', 'nonTR']\n",
    "view['diff'] = view['nonTR'] - view['TR']\n",
    "print('mean nonk diff', view.loc[['cutesv', 'sniffles', 'svjedi']]['diff'].mean())\n",
    "view.round(3)"
   ]
  },
  {
   "cell_type": "code",
   "execution_count": null,
   "id": "eea55cbc-8b2d-43a9-82dd-5ef239eda785",
   "metadata": {},
   "outputs": [],
   "source": [
    "# Full table\n",
    "a = svtype_data[(svtype_data['experiment'] == 'ts')].copy()\n",
    "a['TR'] = 'all'\n",
    "\n",
    "b = tr_svtype_data[(tr_svtype_data['experiment'] == 'ts')].copy()\n",
    "b['TR'] = 'within'\n",
    "\n",
    "c = ntr_svtype_data[(ntr_svtype_data['experiment'] == 'ts')].copy()\n",
    "c['TR'] = 'outside'\n",
    "\n",
    "view = pd.concat([a, b, c])\n",
    "sup_table = (view.groupby(['program', 'coverage', 'svtype', 'TR'])['GT Concordance'].describe()[['mean', 'std']].reset_index())\n",
    "sup_table.to_csv(\"SupTable_TS_GTconcordance.txt\", sep='\\t', index=False)"
   ]
  },
  {
   "cell_type": "markdown",
   "id": "85a64959-3eb6-4dae-be67-144214fc9820",
   "metadata": {},
   "source": [
    "There are approximately four times as many heterozygous as homozygous variants expected per-sample; we explored the distributions of genotypes across all samples in the baseline and from each genotyper’s results (Figure2C). Kanpig’s het/hom ratio is closest to the baseline’s 4.58 at 3.00 compared to 1.28 for svjedi, 1.20 for sniffles, and 1.38 for cutesv. When considering the proportion of genotypes from these single-sample analysis incorrectly reported as reference homozygous (i.e. failure to support the alternate allele) Kanpig exhibits the second highest proportion at 11.4% while the highest is from cutesv at 16.5%. Furthermore, the highest missing rate (i.e. insufficient coverage to assign any genotype, Kanpig is the highest at 3.5% while svjedi is second at 1.2%. Despite kanpig's lower performance on these two measurements of genotyping error, our previous measurements of genotype concordance already account for these errors and, as described above, did not prevent kanpig from producing the highest genotyping concordance."
   ]
  },
  {
   "cell_type": "code",
   "execution_count": null,
   "id": "0a90b01e-9418-4903-b0c1-8ae3c35342f9",
   "metadata": {},
   "outputs": [],
   "source": [
    "baseline = gt_data[(gt_data['program'] == 'baseline')\n",
    "                   & (gt_data['coverage'] == '32x')\n",
    "                   & (gt_data['experiment'] == 'truth')\n",
    "                  ].copy()\n",
    "baseline['ratio'] = baseline['HET']/ baseline['HOM']\n",
    "baseline['ratio'].mean()"
   ]
  },
  {
   "cell_type": "code",
   "execution_count": null,
   "id": "53923ebf-a4b3-47c6-b218-60f8c6a75a70",
   "metadata": {},
   "outputs": [],
   "source": [
    "comp = gt_data[(gt_data['program'] != 'baseline')\n",
    "                   & (gt_data['coverage'] == '32x')\n",
    "                  & (gt_data['experiment'] == 'ts')].copy()\n",
    "comp['ratio'] = comp['HET']/ comp['HOM']\n",
    "comp['tot'] = comp[['REF', 'HET', 'HOM', 'NON', 'UNK']].sum(axis=1)\n",
    "comp['missing_rate'] = comp['NON'] / comp['tot']\n",
    "comp['ref_rate'] = comp['REF'] / comp['tot']\n",
    "comp.groupby(['program'])[['ratio', 'missing_rate', 'ref_rate']].mean()"
   ]
  },
  {
   "cell_type": "code",
   "execution_count": null,
   "id": "c86dc28a-908e-4686-80b4-78c88d7d7dfa",
   "metadata": {},
   "outputs": [],
   "source": [
    "for exp in ['ts']:\n",
    "    subset_a = tr_svtype_data[(tr_svtype_data['svtype'] != 'TOT')\n",
    "                & (tr_svtype_data['coverage'] == '32x')\n",
    "                & (tr_svtype_data['experiment'] == exp)\n",
    "                & (tr_svtype_data['technology'] == 'pac')]\n",
    "    subset_b = ntr_svtype_data[(ntr_svtype_data['svtype'] != 'TOT')\n",
    "                    & (ntr_svtype_data['coverage'] == '32x')\n",
    "                    & (ntr_svtype_data['experiment'] == exp)\n",
    "                    & (ntr_svtype_data['technology'] == 'pac')]\n",
    "\n",
    "    plot_typestrat(subset_a, subset_b)\n",
    "    plt.show()"
   ]
  },
  {
   "cell_type": "markdown",
   "id": "0ec9c18a-204a-4625-afa2-a0afa1961a2a",
   "metadata": {},
   "source": [
    "Genotypers are dependent on the completeness of the SVs being genotyped. \n",
    "\n",
    "SVJedi's higher performance on R9 compared to R10 ONT is counter to other genotypers which all perform better on the higher accuracy R10 reads."
   ]
  },
  {
   "cell_type": "markdown",
   "id": "fe0b84fc-701f-4a25-ac6c-7e5ac04996c7",
   "metadata": {},
   "source": [
    "# Genotype Distribution"
   ]
  },
  {
   "cell_type": "code",
   "execution_count": null,
   "id": "37c6c1d3-1526-4829-9b61-92b35e44a6dd",
   "metadata": {},
   "outputs": [],
   "source": [
    "tests = ['cutesv', 'sniffles', 'svjedi', 'kanpig', 'baseline']\n",
    "\n",
    "m_data = OrderedDict()\n",
    "\n",
    "# Bottom up order\n",
    "view = gt_data[(gt_data['coverage'] == '32x') \n",
    "               & (gt_data['technology'] == 'pac')\n",
    "              & (gt_data['experiment'].isin(['ts', 'truth']))]\n",
    "for i in tests:\n",
    "    m_data[(i, 'pac')] = view[view['program'] == i][['REF', 'HET', 'HOM', 'NON']].sum()\n",
    "\n",
    "#data[('exbaseline', '')] = [17937331 , 1079127, 233567, 0]\n",
    "\n",
    "# Normalize the data by percentages for each test and observation\n",
    "normalized_data = OrderedDict()\n",
    "y_labels = []\n",
    "y_super = []\n",
    "for key, counts in m_data.items():\n",
    "    total = np.sum(counts)\n",
    "    normalized_data[key] = (counts / total) * 100\n",
    "\n",
    "    y_labels.append(key[0])\n",
    "    if key[1] not in y_super:\n",
    "        y_super.append(key[1])\n",
    "\n",
    "# Plotting\n",
    "fig, ax = plt.subplots(figsize=(10, 5))\n",
    "bar_width = .6\n",
    "y_positions = []\n",
    "\n",
    "# Define colors for each category\n",
    "colors = ['#0D2C54', '#7FB800', '#00A6ED', '#F6511D']\n",
    "categories = ['REF', 'HET', 'HOM', 'NON']\n",
    "\n",
    "# Plot each test and observation\n",
    "y_pos = -.75\n",
    "for i, ((test, observation), counts) in enumerate(normalized_data.items()):\n",
    "    y_pos += .75\n",
    "    y_positions.append(y_pos)\n",
    "    left = 0\n",
    "    for j, (count, color, category) in enumerate(zip(counts, colors, categories)):\n",
    "        ax.barh(y_pos, count, left=left, color=color, height=bar_width, label=category if y_pos == 0 else \"\")\n",
    "        if count > 1.5:  # Only add text if the percentage is greater than 5\n",
    "            ax.text(left + count / 2, y_pos, f'{count:.0f}', va='center', ha='center', color='white')\n",
    "        left += count\n",
    "\n",
    "# Adding labels and title\n",
    "ax.set_yticks(y_positions)\n",
    "ax.set_yticklabels(y_labels)\n",
    "ax.set_ylim((-.33, max(y_positions) + .6))\n",
    "ax.set_xlabel('Proportion of Genotypes')\n",
    "ax.set_title('Genotype Distribution for Single-Sample VCFs (32x)')\n",
    "\n",
    "# Adjusting the legend\n",
    "handles, labels = ax.get_legend_handles_labels()\n",
    "ax.legend(handles[:len(categories)], labels[:len(categories)], \n",
    "          loc=\"upper center\", bbox_to_anchor=(0.5, 1.021), ncol=len(categories))\n",
    "#sb.despine(fig)\n",
    "plt.show()\n"
   ]
  },
  {
   "cell_type": "markdown",
   "id": "9d38610c-3441-49fd-94db-83da214f383c",
   "metadata": {},
   "source": [
    "# Number of Neighbors"
   ]
  },
  {
   "cell_type": "code",
   "execution_count": null,
   "id": "a854e16f-0c3c-49f9-b384-762b8dac22d0",
   "metadata": {},
   "outputs": [],
   "source": [
    "add_summary(neigh_data)"
   ]
  },
  {
   "cell_type": "code",
   "execution_count": null,
   "id": "7d69f172-a409-4b9c-96ec-fd25aac902a0",
   "metadata": {},
   "outputs": [],
   "source": [
    "yvar = \"GT Concordance\"\n",
    "experiment = \"ts\"\n",
    "fig, (ax1, ax2) = plt.subplots(2, 1, sharex=True, figsize=(6, 6),\n",
    "                              gridspec_kw={'height_ratios': [3, 2]})  # figsize is (width, height)\n",
    "\n",
    "view = neigh_data[(neigh_data['experiment'] == experiment) \n",
    "                  & (neigh_data['technology'] == 'pac')\n",
    "                 & (neigh_data['coverage'] == '32x')]\n",
    "lineplot = sb.barplot(data=view, ax=ax1,\n",
    "                       x=\"num_neigh\", y=yvar, \n",
    "                       hue=\"program\",\n",
    "                      hue_order=['kanpig', 'svjedi', 'sniffles', 'cutesv'],\n",
    "                     zorder=2)\n",
    "\n",
    "hue_labels = ['kanpig', 'svjedi', 'sniffles', 'cutesv']\n",
    "#styles = ['solid', 'dashed']\n",
    "#style_labels = neigh_data['Technology'].unique()\n",
    "\n",
    "# Get handles and labels for both hue and style\n",
    "handles, _ = lineplot.get_legend_handles_labels()\n",
    "\n",
    "# Create legend elements\n",
    "hue_elements = [plt.Line2D([0], [0], color=sb.color_palette()[i], lw=2) for i in range(len(hue_labels))]\n",
    "#style_elements = [plt.Line2D([0], [0], color='black', linestyle=styles[i], lw=2) for i in range(len(style_labels))]\n",
    "\n",
    "# Combine elements\n",
    "legend_elements = hue_elements #+ style_elements\n",
    "legend_labels = list(hue_labels) #+ list(style_labels)\n",
    "\n",
    "lineplot.set_xticks([0, 1, 2, 3, 4, 5, 6, 7, 8, 9, 10])\n",
    "lineplot.set_xticklabels([\"0\", \"1\", \"2\", \"3\", \"4\", \"5\", \"6\", \"7\", \"8\", \"9\", \"10+\"])\n",
    "lineplot.set(title=\"Balanced Accuracy by Number of Neighbors\", \n",
    "             xlabel=\"\", \n",
    "             ylabel=\"BA\")\n",
    "# Create custom legend\n",
    "ax1.legend(legend_elements, legend_labels, title='', ncol=4, loc='upper right', \n",
    "           bbox_to_anchor=(1.015, 1.015), frameon=False)\n",
    "ax1.grid(axis='y', zorder=1)\n",
    "\n",
    "# This is redundantly added...\n",
    "baseline = neigh_data[(neigh_data['technology'] == 'pac')\n",
    "                      & (neigh_data['coverage'] == '32x')\n",
    "                      & (neigh_data['sample'] == 'HG002')]\n",
    "pct = baseline[['num_neigh', 'Total Calls']].copy()\n",
    "pct['percent of calls'] = pct['Total Calls'] / pct['Total Calls'].sum()\n",
    "hist = sb.barplot(data=pct, x=\"num_neigh\", y=\"percent of calls\", zorder=2, color='#808080')\n",
    "hist.set(ylabel=\"Percent of SVs\", xlabel=\"Neighbors\")\n",
    "ax2.grid(axis='y', zorder=1)\n",
    "fig.tight_layout()"
   ]
  },
  {
   "cell_type": "code",
   "execution_count": null,
   "id": "7ca3bb96-30b7-4701-b678-96f46745ee82",
   "metadata": {},
   "outputs": [],
   "source": [
    "\n",
    "view = neigh_data[(neigh_data['experiment'] == 'ts') \n",
    "                  & (neigh_data['technology'] == 'pac')\n",
    "                 & (neigh_data['coverage'] == '32x')]\n",
    "\n",
    "new_parts = []\n",
    "for _, i in view.groupby(['sample', 'program']):\n",
    "    rest = i[i['num_neigh'] >= 3]\n",
    "    rest_sum = rest[['Concordant', 'Discordant', 'Missing', 'Filtered', \"TP\", \"FP\", \"TN\", \"FN\"]].sum()\n",
    "\n",
    "    half = i[i['num_neigh'] < 3][list(rest_sum.index) + ['num_neigh']].copy()\n",
    "\n",
    "    rest_sum['num_neigh'] = 3\n",
    "    rest_sum['sample'] = _[0]\n",
    "    rest_sum['program'] = _[1]\n",
    "\n",
    "    \n",
    "    half['sample'] = _[0]\n",
    "    half['program'] = _[1]\n",
    "    \n",
    "    new_row = pd.concat([half, rest_sum.to_frame().T])\n",
    "    \n",
    "    new_parts.append(new_row)\n",
    "\n",
    "view2 = pd.concat(new_parts)\n",
    "add_summary(view2)\n",
    "\n",
    "fig, (ax1, ax2) = plt.subplots(2, 1, sharex=True, figsize=(6, 6),\n",
    "                              gridspec_kw={'height_ratios': [3, 2]})  # figsize is (width, height)\n",
    "\n",
    "lineplot = sb.barplot(data=view2, ax=ax1,\n",
    "                       x=\"num_neigh\", y=yvar, \n",
    "                       hue=\"program\",\n",
    "                      hue_order=['kanpig', 'svjedi', 'sniffles', 'cutesv'],\n",
    "                     zorder=2)\n",
    "\n",
    "hue_labels = ['kanpig', 'svjedi', 'sniffles', 'cutesv']\n",
    "#styles = ['solid', 'dashed']\n",
    "#style_labels = neigh_data['Technology'].unique()\n",
    "\n",
    "# Get handles and labels for both hue and style\n",
    "handles, _ = lineplot.get_legend_handles_labels()\n",
    "\n",
    "# Create legend elements\n",
    "hue_elements = [plt.Line2D([0], [0], color=sb.color_palette()[i], lw=2) for i in range(len(hue_labels))]\n",
    "#style_elements = [plt.Line2D([0], [0], color='black', linestyle=styles[i], lw=2) for i in range(len(style_labels))]\n",
    "\n",
    "# Combine elements\n",
    "legend_elements = hue_elements #+ style_elements\n",
    "legend_labels = list(hue_labels) #+ list(style_labels)\n",
    "\n",
    "lineplot.set_xticks([0, 1, 2, 3])\n",
    "lineplot.set_xticklabels([\"0\", \"1\", \"2\", \"3+\"])\n",
    "lineplot.set(title=\"Genotype Concordance by Number of Neighbors\", \n",
    "             xlabel=\"\", \n",
    "             ylabel=\"GT Concordance\",\n",
    "            ylim=(0, 1))\n",
    "# Create custom legend\n",
    "ax1.legend(legend_elements, legend_labels, title='', ncol=2, loc='upper right', \n",
    "           bbox_to_anchor=(1.015, 1.015), frameon=False)\n",
    "ax1.grid(axis='y', zorder=1)\n",
    "\n",
    "# This is redundantly added...\n",
    "baseline = neigh_data[(neigh_data['technology'] == 'pac')\n",
    "                      & (neigh_data['coverage'] == '32x')\n",
    "                      & (neigh_data['experiment'] == 'ts')\n",
    "                     & (neigh_data['program'] == 'kanpig')]\n",
    "\n",
    "rest = baseline[baseline['num_neigh'] >= 3]\n",
    "rest_sum = rest.groupby(['sample'])[['Total Calls']].sum().reset_index()\n",
    "\n",
    "rest_sum['num_neigh'] = 3\n",
    "half = baseline[baseline['num_neigh'] < 3][['sample', 'num_neigh', 'Total Calls']]\n",
    "\n",
    "baseline = pd.concat([half, rest_sum])\n",
    "tot_calls = baseline.groupby(['sample'])[['Total Calls']].sum()\n",
    "baseline.set_index('sample', inplace=True)\n",
    "baseline['Abs num calls'] = tot_calls['Total Calls']\n",
    "baseline['Percent of calls'] = baseline['Total Calls'] / baseline['Abs num calls']\n",
    "\n",
    "hist = sb.barplot(data=baseline, x=\"num_neigh\", y=\"Percent of calls\", zorder=2, color='#808080')\n",
    "hist.set(ylabel=\"Percent of SVs\", xlabel=\"Neighbors\")\n",
    "ax2.grid(axis='y', zorder=1)\n",
    "fig.tight_layout()"
   ]
  },
  {
   "cell_type": "code",
   "execution_count": null,
   "id": "fe918563-afe6-456f-bcbb-f6d3d9867fd3",
   "metadata": {},
   "outputs": [],
   "source": [
    "view = neigh_data[(neigh_data['experiment'] == 'ts') \n",
    "                  & (neigh_data['technology'] == 'pac')\n",
    "                 & (neigh_data['coverage'] == '32x')]\n",
    "new_parts = []\n",
    "for _, i in view.groupby(['sample', 'program']):\n",
    "    rest = i[i['num_neigh'] >= 1]\n",
    "    rest_sum = rest[['Concordant', 'Discordant', 'Missing', 'Filtered', \"TP\", \"FP\", \"TN\", \"FN\"]].sum()\n",
    "\n",
    "    half = i[i['num_neigh'] < 1][list(rest_sum.index) + ['num_neigh']].copy()\n",
    "\n",
    "    rest_sum['num_neigh'] = 1\n",
    "    rest_sum['sample'] = _[0]\n",
    "    rest_sum['program'] = _[1]\n",
    "\n",
    "    \n",
    "    half['sample'] = _[0]\n",
    "    half['program'] = _[1]\n",
    "    \n",
    "    new_row = pd.concat([half, rest_sum.to_frame().T])\n",
    "    \n",
    "    new_parts.append(new_row)\n",
    "\n",
    "view2 = pd.concat(new_parts)\n",
    "add_summary(view2)\n",
    "view2.groupby(['program', 'num_neigh'])['GT Concordance'].mean().unstack()"
   ]
  },
  {
   "cell_type": "code",
   "execution_count": null,
   "id": "e2426b79-cb98-4e9a-8c0a-51264725e9d8",
   "metadata": {},
   "outputs": [],
   "source": [
    "view2"
   ]
  },
  {
   "cell_type": "code",
   "execution_count": null,
   "id": "73da4f85-7284-4bb7-ad33-aa56f624b8c7",
   "metadata": {},
   "outputs": [],
   "source": [
    "baseline = neigh_data[(neigh_data['program'] == 'kanpig')\n",
    "                      & (neigh_data['coverage'] == '32x')\n",
    "                     & (neigh_data['experiment'] == 'ts')]\n",
    "#Total Calls\n",
    "query = baseline[baseline['num_neigh'] == 0].set_index('sample')['Total Calls'].to_frame()\n",
    "query['y'] = baseline[baseline['num_neigh'] != 0].groupby(['sample'])['Total Calls'].sum()\n",
    "\n",
    "query.columns = ['no_neigh', 'has_neigh']\n",
    "\n",
    "query['pct'] = query['has_neigh'] / (query['has_neigh'] + query['no_neigh'])\n",
    "query['pct'].describe()"
   ]
  },
  {
   "cell_type": "markdown",
   "id": "8ecaa0ec-f8a8-4754-9635-4b586f09a69d",
   "metadata": {},
   "source": [
    "A strong predictor of a genotyper’s ability to correctly assign a genotype is the presence of neighboring variants as they increase the complexity of possible haplotypes to which reads must be applied, thus making assigning a correct haplotype more difficult. Thefore, we stratified by variants without neighbors within 1000 bp (i.e. isolated variants) and those with neighbors and measured tools' genotyping concordance on each set. Of the set of ~50.8% of SVs per-sample without neighbors, all tools performed reasonably well with svjedi having the highest genotype concordance at 0.951 followed by sniffles at 0.933, kanpig at 0.927, and cutesv at 0.910. However, in the ~49.2% of SVs per-sample with neighbors, kanpig had the highest genotyping concordance at 0.709, followed by svjedi at 0.521, sniffles at 0.399, and cutesv at 0.357. This suggests that all genotypers perform reasonably well isolated SVs"
   ]
  }
 ],
 "metadata": {
  "kernelspec": {
   "display_name": "Python 3 (ipykernel)",
   "language": "python",
   "name": "python3"
  },
  "language_info": {
   "codemirror_mode": {
    "name": "ipython",
    "version": 3
   },
   "file_extension": ".py",
   "mimetype": "text/x-python",
   "name": "python",
   "nbconvert_exporter": "python",
   "pygments_lexer": "ipython3",
   "version": "3.9.6"
  }
 },
 "nbformat": 4,
 "nbformat_minor": 5
}
